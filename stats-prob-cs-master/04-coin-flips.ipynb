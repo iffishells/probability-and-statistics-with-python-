{
 "cells": [
  {
   "cell_type": "markdown",
   "metadata": {},
   "source": [
    "# Probability - Coin Flips and Experiments "
   ]
  },
  {
   "cell_type": "code",
   "execution_count": 24,
   "metadata": {},
   "outputs": [],
   "source": [
    "import matplotlib \n",
    "import matplotlib.pyplot as plt\n",
    "%matplotlib inline\n",
    "\n",
    "import numpy as np \n",
    "\n",
    "import seaborn as sns\n",
    "sns.set(color_codes=True)\n",
    "sns.set_style(\"white\")     # See more styling options here: https://seaborn.pydata.org/tutorial/aesthetics.html"
   ]
  },
  {
   "cell_type": "code",
   "execution_count": 25,
   "metadata": {},
   "outputs": [
    {
     "data": {
      "text/plain": [
       "0.5680445610939323"
      ]
     },
     "execution_count": 25,
     "metadata": {},
     "output_type": "execute_result"
    }
   ],
   "source": [
    "np.random.uniform(low=0.0, high=1.0)    #unifrom distribution every \n",
    "                                        #element equal chance to come out"
   ]
  },
  {
   "cell_type": "code",
   "execution_count": 26,
   "metadata": {},
   "outputs": [],
   "source": [
    "# generate a 'flip'\n",
    "def flip(num = 1):\n",
    "    flips = [] \n",
    "    \n",
    "    for i in range(num): \n",
    "        num = np.random.uniform(low=0.0, high=1.0)      \n",
    "        if num > 0.50: \n",
    "            flips.append('H')             # should be doing yield here if you know 'generators'\n",
    "        else: \n",
    "            flips.append('T')\n",
    "    return flips"
   ]
  },
  {
   "cell_type": "code",
   "execution_count": 27,
   "metadata": {},
   "outputs": [
    {
     "data": {
      "text/plain": [
       "['H']"
      ]
     },
     "execution_count": 27,
     "metadata": {},
     "output_type": "execute_result"
    }
   ],
   "source": [
    "flip()"
   ]
  },
  {
   "cell_type": "code",
   "execution_count": 28,
   "metadata": {},
   "outputs": [
    {
     "name": "stdout",
     "output_type": "stream",
     "text": [
      "['T', 'T', 'T', 'H', 'H', 'H', 'H', 'H', 'T', 'H']\n"
     ]
    }
   ],
   "source": [
    "flips = flip(10) \n",
    "print(flips)"
   ]
  },
  {
   "cell_type": "code",
   "execution_count": 29,
   "metadata": {},
   "outputs": [],
   "source": [
    "values, counts = np.unique(flips, return_counts=True)"
   ]
  },
  {
   "cell_type": "code",
   "execution_count": 30,
   "metadata": {},
   "outputs": [
    {
     "data": {
      "text/plain": [
       "(array(['H', 'T'], dtype='<U1'), array([6, 4]))"
      ]
     },
     "execution_count": 30,
     "metadata": {},
     "output_type": "execute_result"
    }
   ],
   "source": [
    "values , counts"
   ]
  },
  {
   "cell_type": "markdown",
   "metadata": {},
   "source": [
    "## Repdoducible 'Randomness' "
   ]
  },
  {
   "cell_type": "code",
   "execution_count": 31,
   "metadata": {},
   "outputs": [],
   "source": [
    "# computers are 'deterministic'. You can not do 'random' in computers! \n",
    "# So, you start with some 'seed' then do deterministic things \n",
    "# this is called pseudo-randomness \n",
    "\n",
    "# sometimes you want to suppress this! \n",
    "\n",
    "np.random.seed(0)   # random numbers and seed "
   ]
  },
  {
   "cell_type": "code",
   "execution_count": 32,
   "metadata": {},
   "outputs": [
    {
     "data": {
      "text/plain": [
       "0.5488135039273248"
      ]
     },
     "execution_count": 32,
     "metadata": {},
     "output_type": "execute_result"
    }
   ],
   "source": [
    "np.random.uniform(low=0.0, high=1.0)  \n"
   ]
  },
  {
   "cell_type": "code",
   "execution_count": null,
   "metadata": {},
   "outputs": [],
   "source": []
  },
  {
   "cell_type": "code",
   "execution_count": null,
   "metadata": {},
   "outputs": [],
   "source": []
  },
  {
   "cell_type": "code",
   "execution_count": null,
   "metadata": {},
   "outputs": [],
   "source": []
  },
  {
   "cell_type": "code",
   "execution_count": 33,
   "metadata": {},
   "outputs": [
    {
     "name": "stdout",
     "output_type": "stream",
     "text": [
      "['T', 'T', 'T', 'T', 'T', 'T', 'H', 'H', 'T', 'H']\n",
      "['H' 'T'] [3 7]\n"
     ]
    }
   ],
   "source": [
    "import matplotlib \n",
    "import matplotlib.pyplot as plt\n",
    "%matplotlib inline\n",
    "\n",
    "import numpy as np \n",
    "\n",
    "import seaborn as sns\n",
    "sns.set(color_codes=True)\n",
    "sns.set_style(\"white\")     # See more styling options here: https://seaborn.pydata.org/tutorial/aesthetics.html\n",
    "\n",
    "\n",
    "# np.random.seed()   # random numbers and seed \n",
    "\n",
    "\n",
    "# generate a 'flip'\n",
    "def flip(num = 1):\n",
    "    flips = [] \n",
    "    \n",
    "    for i in range(num): \n",
    "        num = np.random.uniform(low=0.0, high=1.0)      \n",
    "        if num > 0.75: \n",
    "            flips.append('H')             # should be doing yield here if you know 'generators'\n",
    "        else: \n",
    "            flips.append('T')\n",
    "    return flips\n",
    "\n",
    "\n",
    "# Flip \n",
    "flips = flip(10) \n",
    "values, counts = np.unique(flips, return_counts=True)\n",
    "\n",
    "# print values/stats\n",
    "# print(flip())\n",
    "print(flips)\n",
    "print(values, counts)"
   ]
  },
  {
   "cell_type": "markdown",
   "metadata": {},
   "source": [
    "## Probability of Flips "
   ]
  },
  {
   "cell_type": "code",
   "execution_count": 34,
   "metadata": {},
   "outputs": [],
   "source": [
    "# from collections import Counter ,defaultdict\n",
    "# print(Counter(flips).keys())\n",
    "# print(Counter(flips).values())"
   ]
  },
  {
   "cell_type": "code",
   "execution_count": 35,
   "metadata": {},
   "outputs": [],
   "source": [
    "from collections import Counter, defaultdict \n",
    "\n",
    "def get_freqs(flips): \n",
    "    \n",
    "    keys = Counter(flips).keys()\n",
    "    vals = Counter(flips).values()  \n",
    "    \n",
    "#     print(keys)\n",
    "#     print(vals) \n",
    "    \n",
    "    # return dict(zip(keys, vals))     # bug: what if there are no 'H' or no 'T'\n",
    "\n",
    "    return defaultdict(int, dict(zip(keys, vals)))"
   ]
  },
  {
   "cell_type": "code",
   "execution_count": 36,
   "metadata": {},
   "outputs": [
    {
     "name": "stdout",
     "output_type": "stream",
     "text": [
      "defaultdict(<class 'int'>, {'T': 7, 'H': 3})\n"
     ]
    }
   ],
   "source": [
    "freqs = get_freqs(flips)\n",
    "print(freqs)"
   ]
  },
  {
   "cell_type": "code",
   "execution_count": 37,
   "metadata": {},
   "outputs": [
    {
     "name": "stdout",
     "output_type": "stream",
     "text": [
      "0.3\n"
     ]
    }
   ],
   "source": [
    "prob_h = freqs['H'] / len(flips)\n",
    "print(prob_h)"
   ]
  },
  {
   "cell_type": "markdown",
   "metadata": {},
   "source": [
    "## Experiment: Prob calculated based on 1 flip upto N flips "
   ]
  },
  {
   "cell_type": "code",
   "execution_count": 48,
   "metadata": {},
   "outputs": [],
   "source": [
    "maximum_flips = 1000\n",
    "\n",
    "probs = [] \n",
    "for num_flips in range(1, maximum_flips):\n",
    "    flips = flip(num_flips)  #retunn the lst of head and tail\n",
    "    freqs = get_freqs(flips) # return the dict of head and tail\n",
    "    prob_h = freqs['H'] / len(flips)\n",
    "\n",
    "    probs.append(prob_h)\n",
    "    \n",
    "# print(probs)"
   ]
  },
  {
   "cell_type": "code",
   "execution_count": 49,
   "metadata": {},
   "outputs": [
    {
     "name": "stdout",
     "output_type": "stream",
     "text": [
      "defaultdict(<class 'int'>, {'H': 276, 'T': 723})\n"
     ]
    }
   ],
   "source": [
    "print(freqs)"
   ]
  },
  {
   "cell_type": "code",
   "execution_count": 51,
   "metadata": {},
   "outputs": [
    {
     "data": {
      "image/png": "[encoded data removed]",
      "text/plain": [
       "<Figure size 432x288 with 1 Axes>"
      ]
     },
     "metadata": {},
     "output_type": "display_data"
    }
   ],
   "source": [
    "plt.plot(probs)\n",
    "plt.ylabel('Estimated Probability')\n",
    "plt.xlabel('Number of Flips in Experiment');\n",
    "plt.title(\"Calculating Probability over Number of Flips\")\n",
    "sns.despine(offset=10, trim=True);  # move axes away \n",
    "plt.show()"
   ]
  },
  {
   "cell_type": "code",
   "execution_count": 53,
   "metadata": {},
   "outputs": [
    {
     "data": {
      "image/png": "[encoded data removed]",
      "text/plain": [
       "<Figure size 432x288 with 1 Axes>"
      ]
     },
     "metadata": {},
     "output_type": "display_data"
    }
   ],
   "source": [
    "plt.plot(probs[:100])\n",
    "plt.ylabel('Estimated Probability')\n",
    "plt.xlabel('Number of Flips in Experiment');\n",
    "plt.title(\"Calculating Probability over Number of Flips\")\n",
    "sns.despine(offset=10, trim=True);  # move axes away \n",
    "plt.show()"
   ]
  },
  {
   "cell_type": "code",
   "execution_count": 54,
   "metadata": {},
   "outputs": [
    {
     "data": {
      "image/png": "[encoded data removed]",
      "text/plain": [
       "<Figure size 432x288 with 1 Axes>"
      ]
     },
     "metadata": {},
     "output_type": "display_data"
    }
   ],
   "source": [
    "plt.plot(probs[maximum_flips-10:])\n",
    "plt.ylabel('Estimated Probability')\n",
    "plt.xlabel('Number of Flips in Experiment');\n",
    "plt.title(\"Calculating Probability over Number of Flips\")\n",
    "sns.despine(offset=10, trim=True);  # move axes away \n",
    "plt.show()"
   ]
  },
  {
   "cell_type": "markdown",
   "metadata": {},
   "source": [
    "## Bokeh For Interactive Plots "
   ]
  },
  {
   "cell_type": "code",
   "execution_count": 56,
   "metadata": {},
   "outputs": [],
   "source": [
    "# !pip install bokeh"
   ]
  },
  {
   "cell_type": "code",
   "execution_count": 57,
   "metadata": {},
   "outputs": [
    {
     "data": {
      "text/html": [
       "\n",
       "    <div class=\"bk-root\">\n",
       "        <a href=\"https://bokeh.org\" target=\"_blank\" class=\"bk-logo bk-logo-small bk-logo-notebook\"></a>\n",
       "        <span id=\"1199\">Loading BokehJS ...</span>\n",
       "    </div>"
      ]
     },
     "metadata": {},
     "output_type": "display_data"
    },
    {
     "data": {
      "application/javascript": [
       "\n",
       "(function(root) {\n",
       "  function now() {\n",
       "    return new Date();\n",
       "  }\n",
       "\n",
       "  var force = true;\n",
       "\n",
       "  if (typeof root._bokeh_onload_callbacks === \"undefined\" || force === true) {\n",
       "    root._bokeh_onload_callbacks = [];\n",
       "    root._bokeh_is_loading = undefined;\n",
       "  }\n",
       "\n",
       "  var JS_MIME_TYPE = 'application/javascript';\n",
       "  var HTML_MIME_TYPE = 'text/html';\n",
       "  var EXEC_MIME_TYPE = 'application/vnd.bokehjs_exec.v0+json';\n",
       "  var CLASS_NAME = 'output_bokeh rendered_html';\n",
       "\n",
       "  /**\n",
       "   * Render data to the DOM node\n",
       "   */\n",
       "  function render(props, node) {\n",
       "    var script = document.createElement(\"script\");\n",
       "    node.appendChild(script);\n",
       "  }\n",
       "\n",
       "  /**\n",
       "   * Handle when an output is cleared or removed\n",
       "   */\n",
       "  function handleClearOutput(event, handle) {\n",
       "    var cell = handle.cell;\n",
       "\n",
       "    var id = cell.output_area._bokeh_element_id;\n",
       "    var server_id = cell.output_area._bokeh_server_id;\n",
       "    // Clean up Bokeh references\n",
       "    if (id != null && id in Bokeh.index) {\n",
       "      Bokeh.index[id].model.document.clear();\n",
       "      delete Bokeh.index[id];\n",
       "    }\n",
       "\n",
       "    if (server_id !== undefined) {\n",
       "      // Clean up Bokeh references\n",
       "      var cmd = \"from bokeh.io.state import curstate; print(curstate().uuid_to_server['\" + server_id + \"'].get_sessions()[0].document.roots[0]._id)\";\n",
       "      cell.notebook.kernel.execute(cmd, {\n",
       "        iopub: {\n",
       "          output: function(msg) {\n",
       "            var id = msg.content.text.trim();\n",
       "            if (id in Bokeh.index) {\n",
       "              Bokeh.index[id].model.document.clear();\n",
       "              delete Bokeh.index[id];\n",
       "            }\n",
       "          }\n",
       "        }\n",
       "      });\n",
       "      // Destroy server and session\n",
       "      var cmd = \"import bokeh.io.notebook as ion; ion.destroy_server('\" + server_id + \"')\";\n",
       "      cell.notebook.kernel.execute(cmd);\n",
       "    }\n",
       "  }\n",
       "\n",
       "  /**\n",
       "   * Handle when a new output is added\n",
       "   */\n",
       "  function handleAddOutput(event, handle) {\n",
       "    var output_area = handle.output_area;\n",
       "    var output = handle.output;\n",
       "\n",
       "    // limit handleAddOutput to display_data with EXEC_MIME_TYPE content only\n",
       "    if ((output.output_type != \"display_data\") || (!output.data.hasOwnProperty(EXEC_MIME_TYPE))) {\n",
       "      return\n",
       "    }\n",
       "\n",
       "    var toinsert = output_area.element.find(\".\" + CLASS_NAME.split(' ')[0]);\n",
       "\n",
       "    if (output.metadata[EXEC_MIME_TYPE][\"id\"] !== undefined) {\n",
       "      toinsert[toinsert.length - 1].firstChild.textContent = output.data[JS_MIME_TYPE];\n",
       "      // store reference to embed id on output_area\n",
       "      output_area._bokeh_element_id = output.metadata[EXEC_MIME_TYPE][\"id\"];\n",
       "    }\n",
       "    if (output.metadata[EXEC_MIME_TYPE][\"server_id\"] !== undefined) {\n",
       "      var bk_div = document.createElement(\"div\");\n",
       "      bk_div.innerHTML = output.data[HTML_MIME_TYPE];\n",
       "      var script_attrs = bk_div.children[0].attributes;\n",
       "      for (var i = 0; i < script_attrs.length; i++) {\n",
       "        toinsert[toinsert.length - 1].firstChild.setAttribute(script_attrs[i].name, script_attrs[i].value);\n",
       "        toinsert[toinsert.length - 1].firstChild.textContent = bk_div.children[0].textContent\n",
       "      }\n",
       "      // store reference to server id on output_area\n",
       "      output_area._bokeh_server_id = output.metadata[EXEC_MIME_TYPE][\"server_id\"];\n",
       "    }\n",
       "  }\n",
       "\n",
       "  function register_renderer(events, OutputArea) {\n",
       "\n",
       "    function append_mime(data, metadata, element) {\n",
       "      // create a DOM node to render to\n",
       "      var toinsert = this.create_output_subarea(\n",
       "        metadata,\n",
       "        CLASS_NAME,\n",
       "        EXEC_MIME_TYPE\n",
       "      );\n",
       "      this.keyboard_manager.register_events(toinsert);\n",
       "      // Render to node\n",
       "      var props = {data: data, metadata: metadata[EXEC_MIME_TYPE]};\n",
       "      render(props, toinsert[toinsert.length - 1]);\n",
       "      element.append(toinsert);\n",
       "      return toinsert\n",
       "    }\n",
       "\n",
       "    /* Handle when an output is cleared or removed */\n",
       "    events.on('clear_output.CodeCell', handleClearOutput);\n",
       "    events.on('delete.Cell', handleClearOutput);\n",
       "\n",
       "    /* Handle when a new output is added */\n",
       "    events.on('output_added.OutputArea', handleAddOutput);\n",
       "\n",
       "    /**\n",
       "     * Register the mime type and append_mime function with output_area\n",
       "     */\n",
       "    OutputArea.prototype.register_mime_type(EXEC_MIME_TYPE, append_mime, {\n",
       "      /* Is output safe? */\n",
       "      safe: true,\n",
       "      /* Index of renderer in `output_area.display_order` */\n",
       "      index: 0\n",
       "    });\n",
       "  }\n",
       "\n",
       "  // register the mime type if in Jupyter Notebook environment and previously unregistered\n",
       "  if (root.Jupyter !== undefined) {\n",
       "    var events = require('base/js/events');\n",
       "    var OutputArea = require('notebook/js/outputarea').OutputArea;\n",
       "\n",
       "    if (OutputArea.prototype.mime_types().indexOf(EXEC_MIME_TYPE) == -1) {\n",
       "      register_renderer(events, OutputArea);\n",
       "    }\n",
       "  }\n",
       "\n",
       "  \n",
       "  if (typeof (root._bokeh_timeout) === \"undefined\" || force === true) {\n",
       "    root._bokeh_timeout = Date.now() + 5000;\n",
       "    root._bokeh_failed_load = false;\n",
       "  }\n",
       "\n",
       "  var NB_LOAD_WARNING = {'data': {'text/html':\n",
       "     \"<div style='background-color: #fdd'>\\n\"+\n",
       "     \"<p>\\n\"+\n",
       "     \"BokehJS does not appear to have successfully loaded. If loading BokehJS from CDN, this \\n\"+\n",
       "     \"may be due to a slow or bad network connection. Possible fixes:\\n\"+\n",
       "     \"</p>\\n\"+\n",
       "     \"<ul>\\n\"+\n",
       "     \"<li>re-rerun `output_notebook()` to attempt to load from CDN again, or</li>\\n\"+\n",
       "     \"<li>use INLINE resources instead, as so:</li>\\n\"+\n",
       "     \"</ul>\\n\"+\n",
       "     \"<code>\\n\"+\n",
       "     \"from bokeh.resources import INLINE\\n\"+\n",
       "     \"output_notebook(resources=INLINE)\\n\"+\n",
       "     \"</code>\\n\"+\n",
       "     \"</div>\"}};\n",
       "\n",
       "  function display_loaded() {\n",
       "    var el = document.getElementById(\"1199\");\n",
       "    if (el != null) {\n",
       "      el.textContent = \"BokehJS is loading...\";\n",
       "    }\n",
       "    if (root.Bokeh !== undefined) {\n",
       "      if (el != null) {\n",
       "        el.textContent = \"BokehJS \" + root.Bokeh.version + \" successfully loaded.\";\n",
       "      }\n",
       "    } else if (Date.now() < root._bokeh_timeout) {\n",
       "      setTimeout(display_loaded, 100)\n",
       "    }\n",
       "  }\n",
       "\n",
       "\n",
       "  function run_callbacks() {\n",
       "    try {\n",
       "      root._bokeh_onload_callbacks.forEach(function(callback) {\n",
       "        if (callback != null)\n",
       "          callback();\n",
       "      });\n",
       "    } finally {\n",
       "      delete root._bokeh_onload_callbacks\n",
       "    }\n",
       "    console.debug(\"Bokeh: all callbacks have finished\");\n",
       "  }\n",
       "\n",
       "  function load_libs(css_urls, js_urls, callback) {\n",
       "    if (css_urls == null) css_urls = [];\n",
       "    if (js_urls == null) js_urls = [];\n",
       "\n",
       "    root._bokeh_onload_callbacks.push(callback);\n",
       "    if (root._bokeh_is_loading > 0) {\n",
       "      console.debug(\"Bokeh: BokehJS is being loaded, scheduling callback at\", now());\n",
       "      return null;\n",
       "    }\n",
       "    if (js_urls == null || js_urls.length === 0) {\n",
       "      run_callbacks();\n",
       "      return null;\n",
       "    }\n",
       "    console.debug(\"Bokeh: BokehJS not loaded, scheduling load and callback at\", now());\n",
       "    root._bokeh_is_loading = css_urls.length + js_urls.length;\n",
       "\n",
       "    function on_load() {\n",
       "      root._bokeh_is_loading--;\n",
       "      if (root._bokeh_is_loading === 0) {\n",
       "        console.debug(\"Bokeh: all BokehJS libraries/stylesheets loaded\");\n",
       "        run_callbacks()\n",
       "      }\n",
       "    }\n",
       "\n",
       "    function on_error() {\n",
       "      console.error(\"failed to load \" + url);\n",
       "    }\n",
       "\n",
       "    for (var i = 0; i < css_urls.length; i++) {\n",
       "      var url = css_urls[i];\n",
       "      const element = document.createElement(\"link\");\n",
       "      element.onload = on_load;\n",
       "      element.onerror = on_error;\n",
       "      element.rel = \"stylesheet\";\n",
       "      element.type = \"text/css\";\n",
       "      element.href = url;\n",
       "      console.debug(\"Bokeh: injecting link tag for BokehJS stylesheet: \", url);\n",
       "      document.body.appendChild(element);\n",
       "    }\n",
       "\n",
       "    const hashes = {\"https://cdn.bokeh.org/bokeh/release/bokeh-2.1.1.min.js\": \"kLr4fYcqcSpbuI95brIH3vnnYCquzzSxHPU6XGQCIkQRGJwhg0StNbj1eegrHs12\", \"https://cdn.bokeh.org/bokeh/release/bokeh-widgets-2.1.1.min.js\": \"xIGPmVtaOm+z0BqfSOMn4lOR6ciex448GIKG4eE61LsAvmGj48XcMQZtKcE/UXZe\", \"https://cdn.bokeh.org/bokeh/release/bokeh-tables-2.1.1.min.js\": \"Dc9u1wF/0zApGIWoBbH77iWEHtdmkuYWG839Uzmv8y8yBLXebjO9ZnERsde5Ln/P\", \"https://cdn.bokeh.org/bokeh/release/bokeh-gl-2.1.1.min.js\": \"cT9JaBz7GiRXdENrJLZNSC6eMNF3nh3fa5fTF51Svp+ukxPdwcU5kGXGPBgDCa2j\"};\n",
       "\n",
       "    for (var i = 0; i < js_urls.length; i++) {\n",
       "      var url = js_urls[i];\n",
       "      var element = document.createElement('script');\n",
       "      element.onload = on_load;\n",
       "      element.onerror = on_error;\n",
       "      element.async = false;\n",
       "      element.src = url;\n",
       "      if (url in hashes) {\n",
       "        element.crossOrigin = \"anonymous\";\n",
       "        element.integrity = \"sha384-\" + hashes[url];\n",
       "      }\n",
       "      console.debug(\"Bokeh: injecting script tag for BokehJS library: \", url);\n",
       "      document.head.appendChild(element);\n",
       "    }\n",
       "  };\n",
       "\n",
       "  function inject_raw_css(css) {\n",
       "    const element = document.createElement(\"style\");\n",
       "    element.appendChild(document.createTextNode(css));\n",
       "    document.body.appendChild(element);\n",
       "  }\n",
       "\n",
       "  \n",
       "  var js_urls = [\"https://cdn.bokeh.org/bokeh/release/bokeh-2.1.1.min.js\", \"https://cdn.bokeh.org/bokeh/release/bokeh-widgets-2.1.1.min.js\", \"https://cdn.bokeh.org/bokeh/release/bokeh-tables-2.1.1.min.js\", \"https://cdn.bokeh.org/bokeh/release/bokeh-gl-2.1.1.min.js\"];\n",
       "  var css_urls = [];\n",
       "  \n",
       "\n",
       "  var inline_js = [\n",
       "    function(Bokeh) {\n",
       "      Bokeh.set_log_level(\"info\");\n",
       "    },\n",
       "    function(Bokeh) {\n",
       "    \n",
       "    \n",
       "    }\n",
       "  ];\n",
       "\n",
       "  function run_inline_js() {\n",
       "    \n",
       "    if (root.Bokeh !== undefined || force === true) {\n",
       "      \n",
       "    for (var i = 0; i < inline_js.length; i++) {\n",
       "      inline_js[i].call(root, root.Bokeh);\n",
       "    }\n",
       "    if (force === true) {\n",
       "        display_loaded();\n",
       "      }} else if (Date.now() < root._bokeh_timeout) {\n",
       "      setTimeout(run_inline_js, 100);\n",
       "    } else if (!root._bokeh_failed_load) {\n",
       "      console.log(\"Bokeh: BokehJS failed to load within specified timeout.\");\n",
       "      root._bokeh_failed_load = true;\n",
       "    } else if (force !== true) {\n",
       "      var cell = $(document.getElementById(\"1199\")).parents('.cell').data().cell;\n",
       "      cell.output_area.append_execute_result(NB_LOAD_WARNING)\n",
       "    }\n",
       "\n",
       "  }\n",
       "\n",
       "  if (root._bokeh_is_loading === 0) {\n",
       "    console.debug(\"Bokeh: BokehJS loaded, going straight to plotting\");\n",
       "    run_inline_js();\n",
       "  } else {\n",
       "    load_libs(css_urls, js_urls, function() {\n",
       "      console.debug(\"Bokeh: BokehJS plotting callback run at\", now());\n",
       "      run_inline_js();\n",
       "    });\n",
       "  }\n",
       "}(window));"
      ],
      "application/vnd.bokehjs_load.v0+json": "\n(function(root) {\n  function now() {\n    return new Date();\n  }\n\n  var force = true;\n\n  if (typeof root._bokeh_onload_callbacks === \"undefined\" || force === true) {\n    root._bokeh_onload_callbacks = [];\n    root._bokeh_is_loading = undefined;\n  }\n\n  \n\n  \n  if (typeof (root._bokeh_timeout) === \"undefined\" || force === true) {\n    root._bokeh_timeout = Date.now() + 5000;\n    root._bokeh_failed_load = false;\n  }\n\n  var NB_LOAD_WARNING = {'data': {'text/html':\n     \"<div style='background-color: #fdd'>\\n\"+\n     \"<p>\\n\"+\n     \"BokehJS does not appear to have successfully loaded. If loading BokehJS from CDN, this \\n\"+\n     \"may be due to a slow or bad network connection. Possible fixes:\\n\"+\n     \"</p>\\n\"+\n     \"<ul>\\n\"+\n     \"<li>re-rerun `output_notebook()` to attempt to load from CDN again, or</li>\\n\"+\n     \"<li>use INLINE resources instead, as so:</li>\\n\"+\n     \"</ul>\\n\"+\n     \"<code>\\n\"+\n     \"from bokeh.resources import INLINE\\n\"+\n     \"output_notebook(resources=INLINE)\\n\"+\n     \"</code>\\n\"+\n     \"</div>\"}};\n\n  function display_loaded() {\n    var el = document.getElementById(\"1199\");\n    if (el != null) {\n      el.textContent = \"BokehJS is loading...\";\n    }\n    if (root.Bokeh !== undefined) {\n      if (el != null) {\n        el.textContent = \"BokehJS \" + root.Bokeh.version + \" successfully loaded.\";\n      }\n    } else if (Date.now() < root._bokeh_timeout) {\n      setTimeout(display_loaded, 100)\n    }\n  }\n\n\n  function run_callbacks() {\n    try {\n      root._bokeh_onload_callbacks.forEach(function(callback) {\n        if (callback != null)\n          callback();\n      });\n    } finally {\n      delete root._bokeh_onload_callbacks\n    }\n    console.debug(\"Bokeh: all callbacks have finished\");\n  }\n\n  function load_libs(css_urls, js_urls, callback) {\n    if (css_urls == null) css_urls = [];\n    if (js_urls == null) js_urls = [];\n\n    root._bokeh_onload_callbacks.push(callback);\n    if (root._bokeh_is_loading > 0) {\n      console.debug(\"Bokeh: BokehJS is being loaded, scheduling callback at\", now());\n      return null;\n    }\n    if (js_urls == null || js_urls.length === 0) {\n      run_callbacks();\n      return null;\n    }\n    console.debug(\"Bokeh: BokehJS not loaded, scheduling load and callback at\", now());\n    root._bokeh_is_loading = css_urls.length + js_urls.length;\n\n    function on_load() {\n      root._bokeh_is_loading--;\n      if (root._bokeh_is_loading === 0) {\n        console.debug(\"Bokeh: all BokehJS libraries/stylesheets loaded\");\n        run_callbacks()\n      }\n    }\n\n    function on_error() {\n      console.error(\"failed to load \" + url);\n    }\n\n    for (var i = 0; i < css_urls.length; i++) {\n      var url = css_urls[i];\n      const element = document.createElement(\"link\");\n      element.onload = on_load;\n      element.onerror = on_error;\n      element.rel = \"stylesheet\";\n      element.type = \"text/css\";\n      element.href = url;\n      console.debug(\"Bokeh: injecting link tag for BokehJS stylesheet: \", url);\n      document.body.appendChild(element);\n    }\n\n    const hashes = {\"https://cdn.bokeh.org/bokeh/release/bokeh-2.1.1.min.js\": \"kLr4fYcqcSpbuI95brIH3vnnYCquzzSxHPU6XGQCIkQRGJwhg0StNbj1eegrHs12\", \"https://cdn.bokeh.org/bokeh/release/bokeh-widgets-2.1.1.min.js\": \"xIGPmVtaOm+z0BqfSOMn4lOR6ciex448GIKG4eE61LsAvmGj48XcMQZtKcE/UXZe\", \"https://cdn.bokeh.org/bokeh/release/bokeh-tables-2.1.1.min.js\": \"Dc9u1wF/0zApGIWoBbH77iWEHtdmkuYWG839Uzmv8y8yBLXebjO9ZnERsde5Ln/P\", \"https://cdn.bokeh.org/bokeh/release/bokeh-gl-2.1.1.min.js\": \"cT9JaBz7GiRXdENrJLZNSC6eMNF3nh3fa5fTF51Svp+ukxPdwcU5kGXGPBgDCa2j\"};\n\n    for (var i = 0; i < js_urls.length; i++) {\n      var url = js_urls[i];\n      var element = document.createElement('script');\n      element.onload = on_load;\n      element.onerror = on_error;\n      element.async = false;\n      element.src = url;\n      if (url in hashes) {\n        element.crossOrigin = \"anonymous\";\n        element.integrity = \"sha384-\" + hashes[url];\n      }\n      console.debug(\"Bokeh: injecting script tag for BokehJS library: \", url);\n      document.head.appendChild(element);\n    }\n  };\n\n  function inject_raw_css(css) {\n    const element = document.createElement(\"style\");\n    element.appendChild(document.createTextNode(css));\n    document.body.appendChild(element);\n  }\n\n  \n  var js_urls = [\"https://cdn.bokeh.org/bokeh/release/bokeh-2.1.1.min.js\", \"https://cdn.bokeh.org/bokeh/release/bokeh-widgets-2.1.1.min.js\", \"https://cdn.bokeh.org/bokeh/release/bokeh-tables-2.1.1.min.js\", \"https://cdn.bokeh.org/bokeh/release/bokeh-gl-2.1.1.min.js\"];\n  var css_urls = [];\n  \n\n  var inline_js = [\n    function(Bokeh) {\n      Bokeh.set_log_level(\"info\");\n    },\n    function(Bokeh) {\n    \n    \n    }\n  ];\n\n  function run_inline_js() {\n    \n    if (root.Bokeh !== undefined || force === true) {\n      \n    for (var i = 0; i < inline_js.length; i++) {\n      inline_js[i].call(root, root.Bokeh);\n    }\n    if (force === true) {\n        display_loaded();\n      }} else if (Date.now() < root._bokeh_timeout) {\n      setTimeout(run_inline_js, 100);\n    } else if (!root._bokeh_failed_load) {\n      console.log(\"Bokeh: BokehJS failed to load within specified timeout.\");\n      root._bokeh_failed_load = true;\n    } else if (force !== true) {\n      var cell = $(document.getElementById(\"1199\")).parents('.cell').data().cell;\n      cell.output_area.append_execute_result(NB_LOAD_WARNING)\n    }\n\n  }\n\n  if (root._bokeh_is_loading === 0) {\n    console.debug(\"Bokeh: BokehJS loaded, going straight to plotting\");\n    run_inline_js();\n  } else {\n    load_libs(css_urls, js_urls, function() {\n      console.debug(\"Bokeh: BokehJS plotting callback run at\", now());\n      run_inline_js();\n    });\n  }\n}(window));"
     },
     "metadata": {},
     "output_type": "display_data"
    }
   ],
   "source": [
    "from bokeh.io import show, output_notebook\n",
    "from bokeh.plotting import figure\n",
    "\n",
    "output_notebook()"
   ]
  },
  {
   "cell_type": "code",
   "execution_count": 58,
   "metadata": {},
   "outputs": [],
   "source": [
    "p = figure(title=\"Simple Line Plot in Bokeh\", \n",
    "           x_axis_label='Number of Flips in Experiment', \n",
    "           y_axis_label='Estimated Probability', \n",
    "           plot_width=580, plot_height=380)"
   ]
  },
  {
   "cell_type": "code",
   "execution_count": 59,
   "metadata": {},
   "outputs": [
    {
     "data": {
      "text/html": [
       "\n",
       "\n",
       "\n",
       "\n",
       "\n",
       "\n",
       "  <div class=\"bk-root\" id=\"d89f0c1c-c197-450a-b6ee-203b239826fb\" data-root-id=\"1200\"></div>\n"
      ]
     },
     "metadata": {},
     "output_type": "display_data"
    },
    {
     "data": {
      "application/javascript": [
       "(function(root) {\n",
       "  function embed_document(root) {\n",
       "    \n",
       "  var docs_json = {\"8f52876b-18ba-49ac-90d2-7d3751e8e7fc\":{\"roots\":{\"references\":[{\"attributes\":{\"below\":[{\"id\":\"1211\"}],\"center\":[{\"id\":\"1214\"},{\"id\":\"1218\"}],\"left\":[{\"id\":\"1215\"}],\"plot_height\":380,\"plot_width\":580,\"renderers\":[{\"id\":\"1236\"}],\"title\":{\"id\":\"1201\"},\"toolbar\":{\"id\":\"1226\"},\"x_range\":{\"id\":\"1203\"},\"x_scale\":{\"id\":\"1207\"},\"y_range\":{\"id\":\"1205\"},\"y_scale\":{\"id\":\"1209\"}},\"id\":\"1200\",\"subtype\":\"Figure\",\"type\":\"Plot\"},{\"attributes\":{},\"id\":\"1223\",\"type\":\"ResetTool\"},{\"attributes\":{},\"id\":\"1212\",\"type\":\"BasicTicker\"},{\"attributes\":{},\"id\":\"1209\",\"type\":\"LinearScale\"},{\"attributes\":{\"axis\":{\"id\":\"1215\"},\"dimension\":1,\"ticker\":null},\"id\":\"1218\",\"type\":\"Grid\"},{\"attributes\":{},\"id\":\"1261\",\"type\":\"Selection\"},{\"attributes\":{},\"id\":\"1258\",\"type\":\"BasicTickFormatter\"},{\"attributes\":{},\"id\":\"1256\",\"type\":\"BasicTickFormatter\"},{\"attributes\":{\"data_source\":{\"id\":\"1233\"},\"glyph\":{\"id\":\"1234\"},\"hover_glyph\":null,\"muted_glyph\":null,\"nonselection_glyph\":{\"id\":\"1235\"},\"selection_glyph\":null,\"view\":{\"id\":\"1237\"}},\"id\":\"1236\",\"type\":\"GlyphRenderer\"},{\"attributes\":{},\"id\":\"1205\",\"type\":\"DataRange1d\"},{\"attributes\":{},\"id\":\"1222\",\"type\":\"SaveTool\"},{\"attributes\":{\"data\":{\"x\":[1,2,3,4,5,6,7,8,9,10,11,12,13,14,15,16,17,18,19,20,21,22,23,24,25,26,27,28,29,30,31,32,33,34,35,36,37,38,39,40,41,42,43,44,45,46,47,48,49,50,51,52,53,54,55,56,57,58,59,60,61,62,63,64,65,66,67,68,69,70,71,72,73,74,75,76,77,78,79,80,81,82,83,84,85,86,87,88,89,90,91,92,93,94,95,96,97,98,99,100,101,102,103,104,105,106,107,108,109,110,111,112,113,114,115,116,117,118,119,120,121,122,123,124,125,126,127,128,129,130,131,132,133,134,135,136,137,138,139,140,141,142,143,144,145,146,147,148,149,150,151,152,153,154,155,156,157,158,159,160,161,162,163,164,165,166,167,168,169,170,171,172,173,174,175,176,177,178,179,180,181,182,183,184,185,186,187,188,189,190,191,192,193,194,195,196,197,198,199,200,201,202,203,204,205,206,207,208,209,210,211,212,213,214,215,216,217,218,219,220,221,222,223,224,225,226,227,228,229,230,231,232,233,234,235,236,237,238,239,240,241,242,243,244,245,246,247,248,249,250,251,252,253,254,255,256,257,258,259,260,261,262,263,264,265,266,267,268,269,270,271,272,273,274,275,276,277,278,279,280,281,282,283,284,285,286,287,288,289,290,291,292,293,294,295,296,297,298,299,300,301,302,303,304,305,306,307,308,309,310,311,312,313,314,315,316,317,318,319,320,321,322,323,324,325,326,327,328,329,330,331,332,333,334,335,336,337,338,339,340,341,342,343,344,345,346,347,348,349,350,351,352,353,354,355,356,357,358,359,360,361,362,363,364,365,366,367,368,369,370,371,372,373,374,375,376,377,378,379,380,381,382,383,384,385,386,387,388,389,390,391,392,393,394,395,396,397,398,399,400,401,402,403,404,405,406,407,408,409,410,411,412,413,414,415,416,417,418,419,420,421,422,423,424,425,426,427,428,429,430,431,432,433,434,435,436,437,438,439,440,441,442,443,444,445,446,447,448,449,450,451,452,453,454,455,456,457,458,459,460,461,462,463,464,465,466,467,468,469,470,471,472,473,474,475,476,477,478,479,480,481,482,483,484,485,486,487,488,489,490,491,492,493,494,495,496,497,498,499,500,501,502,503,504,505,506,507,508,509,510,511,512,513,514,515,516,517,518,519,520,521,522,523,524,525,526,527,528,529,530,531,532,533,534,535,536,537,538,539,540,541,542,543,544,545,546,547,548,549,550,551,552,553,554,555,556,557,558,559,560,561,562,563,564,565,566,567,568,569,570,571,572,573,574,575,576,577,578,579,580,581,582,583,584,585,586,587,588,589,590,591,592,593,594,595,596,597,598,599,600,601,602,603,604,605,606,607,608,609,610,611,612,613,614,615,616,617,618,619,620,621,622,623,624,625,626,627,628,629,630,631,632,633,634,635,636,637,638,639,640,641,642,643,644,645,646,647,648,649,650,651,652,653,654,655,656,657,658,659,660,661,662,663,664,665,666,667,668,669,670,671,672,673,674,675,676,677,678,679,680,681,682,683,684,685,686,687,688,689,690,691,692,693,694,695,696,697,698,699,700,701,702,703,704,705,706,707,708,709,710,711,712,713,714,715,716,717,718,719,720,721,722,723,724,725,726,727,728,729,730,731,732,733,734,735,736,737,738,739,740,741,742,743,744,745,746,747,748,749,750,751,752,753,754,755,756,757,758,759,760,761,762,763,764,765,766,767,768,769,770,771,772,773,774,775,776,777,778,779,780,781,782,783,784,785,786,787,788,789,790,791,792,793,794,795,796,797,798,799,800,801,802,803,804,805,806,807,808,809,810,811,812,813,814,815,816,817,818,819,820,821,822,823,824,825,826,827,828,829,830,831,832,833,834,835,836,837,838,839,840,841,842,843,844,845,846,847,848,849,850,851,852,853,854,855,856,857,858,859,860,861,862,863,864,865,866,867,868,869,870,871,872,873,874,875,876,877,878,879,880,881,882,883,884,885,886,887,888,889,890,891,892,893,894,895,896,897,898,899,900,901,902,903,904,905,906,907,908,909,910,911,912,913,914,915,916,917,918,919,920,921,922,923,924,925,926,927,928,929,930,931,932,933,934,935,936,937,938,939,940,941,942,943,944,945,946,947,948,949,950,951,952,953,954,955,956,957,958,959,960,961,962,963,964,965,966,967,968,969,970,971,972,973,974,975,976,977,978,979,980,981,982,983,984,985,986,987,988,989,990,991,992,993,994,995,996,997,998,999],\"y\":[0.0,0.0,0.6666666666666666,0.5,0.2,0.3333333333333333,0.42857142857142855,0.375,0.2222222222222222,0.2,0.2727272727272727,0.16666666666666666,0.15384615384615385,0.42857142857142855,0.3333333333333333,0.125,0.35294117647058826,0.2777777777777778,0.15789473684210525,0.15,0.19047619047619047,0.36363636363636365,0.17391304347826086,0.25,0.24,0.15384615384615385,0.18518518518518517,0.21428571428571427,0.2413793103448276,0.26666666666666666,0.3548387096774194,0.28125,0.2727272727272727,0.23529411764705882,0.22857142857142856,0.19444444444444445,0.13513513513513514,0.21052631578947367,0.358974358974359,0.3,0.2926829268292683,0.35714285714285715,0.32558139534883723,0.18181818181818182,0.3111111111111111,0.30434782608695654,0.3191489361702128,0.2708333333333333,0.30612244897959184,0.36,0.21568627450980393,0.21153846153846154,0.2830188679245283,0.18518518518518517,0.18181818181818182,0.21428571428571427,0.21052631578947367,0.1724137931034483,0.2711864406779661,0.16666666666666666,0.3114754098360656,0.24193548387096775,0.23809523809523808,0.296875,0.24615384615384617,0.19696969696969696,0.3283582089552239,0.29411764705882354,0.21739130434782608,0.2714285714285714,0.28169014084507044,0.2777777777777778,0.273972602739726,0.25675675675675674,0.25333333333333335,0.2236842105263158,0.23376623376623376,0.19230769230769232,0.189873417721519,0.25,0.37037037037037035,0.2073170731707317,0.3132530120481928,0.2619047619047619,0.24705882352941178,0.38372093023255816,0.26436781609195403,0.25,0.23595505617977527,0.26666666666666666,0.1978021978021978,0.30434782608695654,0.23655913978494625,0.2553191489361702,0.24210526315789474,0.2604166666666667,0.26804123711340205,0.22448979591836735,0.2828282828282828,0.23,0.297029702970297,0.22549019607843138,0.30097087378640774,0.25961538461538464,0.26666666666666666,0.24528301886792453,0.14953271028037382,0.18518518518518517,0.28440366972477066,0.2818181818181818,0.23423423423423423,0.25892857142857145,0.23008849557522124,0.2719298245614035,0.23478260869565218,0.21551724137931033,0.2564102564102564,0.2627118644067797,0.24369747899159663,0.225,0.2396694214876033,0.3114754098360656,0.2764227642276423,0.20161290322580644,0.288,0.2698412698412698,0.2125984251968504,0.1953125,0.2248062015503876,0.24615384615384617,0.2748091603053435,0.25757575757575757,0.21804511278195488,0.21641791044776118,0.2814814814814815,0.22794117647058823,0.20437956204379562,0.2608695652173913,0.20863309352517986,0.2,0.3191489361702128,0.19014084507042253,0.3006993006993007,0.3055555555555556,0.2896551724137931,0.2876712328767123,0.272108843537415,0.23648648648648649,0.30201342281879195,0.2733333333333333,0.24503311258278146,0.23684210526315788,0.3137254901960784,0.23376623376623376,0.2967741935483871,0.25,0.25477707006369427,0.23417721518987342,0.25157232704402516,0.25,0.18633540372670807,0.2716049382716049,0.24539877300613497,0.23780487804878048,0.21212121212121213,0.27710843373493976,0.30538922155688625,0.23809523809523808,0.23076923076923078,0.25882352941176473,0.23976608187134502,0.2558139534883721,0.30057803468208094,0.22988505747126436,0.26857142857142857,0.26704545454545453,0.2598870056497175,0.24157303370786518,0.25139664804469275,0.26666666666666666,0.27624309392265195,0.24725274725274726,0.23497267759562843,0.2717391304347826,0.21621621621621623,0.25806451612903225,0.1925133689839572,0.28191489361702127,0.20105820105820105,0.2631578947368421,0.2198952879581152,0.2604166666666667,0.25906735751295334,0.26804123711340205,0.23076923076923078,0.3112244897959184,0.25888324873096447,0.18686868686868688,0.3015075376884422,0.235,0.23880597014925373,0.24752475247524752,0.23645320197044334,0.25980392156862747,0.24390243902439024,0.2669902912621359,0.25120772946859904,0.28846153846153844,0.28708133971291866,0.28095238095238095,0.26066350710900477,0.25943396226415094,0.27699530516431925,0.2897196261682243,0.26046511627906976,0.30092592592592593,0.2626728110599078,0.22477064220183487,0.2876712328767123,0.20454545454545456,0.31221719457013575,0.25675675675675674,0.3094170403587444,0.28125,0.24888888888888888,0.252212389380531,0.2599118942731278,0.2236842105263158,0.25327510917030566,0.24782608695652175,0.2727272727272727,0.2672413793103448,0.26180257510729615,0.27350427350427353,0.2425531914893617,0.211864406779661,0.20253164556962025,0.2605042016806723,0.1799163179916318,0.22916666666666666,0.21991701244813278,0.22727272727272727,0.2345679012345679,0.26229508196721313,0.2816326530612245,0.25203252032520324,0.23076923076923078,0.29435483870967744,0.2289156626506024,0.276,0.24302788844621515,0.25396825396825395,0.24110671936758893,0.2559055118110236,0.2627450980392157,0.23046875,0.26848249027237353,0.23255813953488372,0.27413127413127414,0.23461538461538461,0.2681992337164751,0.26717557251908397,0.2509505703422053,0.24621212121212122,0.26037735849056604,0.24436090225563908,0.1947565543071161,0.26492537313432835,0.27137546468401486,0.25925925925925924,0.24354243542435425,0.26838235294117646,0.24175824175824176,0.24452554744525548,0.24,0.23550724637681159,0.22382671480144403,0.25539568345323743,0.24372759856630824,0.2571428571428571,0.21708185053380782,0.2872340425531915,0.27208480565371024,0.2640845070422535,0.22456140350877193,0.2517482517482518,0.24041811846689895,0.2638888888888889,0.2491349480968858,0.296551724137931,0.23711340206185566,0.2568493150684932,0.27303754266211605,0.272108843537415,0.2440677966101695,0.20945945945945946,0.25252525252525254,0.21476510067114093,0.27424749163879597,0.21,0.21926910299003322,0.2251655629139073,0.26732673267326734,0.2236842105263158,0.19344262295081968,0.2973856209150327,0.2280130293159609,0.25,0.20711974110032363,0.25483870967741934,0.2733118971061093,0.22115384615384615,0.28753993610223644,0.2197452229299363,0.24761904761904763,0.25316455696202533,0.29337539432176657,0.25471698113207547,0.2852664576802508,0.275,0.2523364485981308,0.22981366459627328,0.25386996904024767,0.2191358024691358,0.2676923076923077,0.25153374233128833,0.24464831804281345,0.24085365853658536,0.2857142857142857,0.2878787878787879,0.2537764350453172,0.22590361445783133,0.2552552552552553,0.27844311377245506,0.24477611940298508,0.22321428571428573,0.27002967359050445,0.2692307692307692,0.2920353982300885,0.2676470588235294,0.21994134897360704,0.2134502923976608,0.23323615160349853,0.2558139534883721,0.27246376811594203,0.24855491329479767,0.2622478386167147,0.2442528735632184,0.27793696275071633,0.28285714285714286,0.25071225071225073,0.2784090909090909,0.24645892351274787,0.2231638418079096,0.24788732394366197,0.2893258426966292,0.24089635854341737,0.25977653631284914,0.25348189415041783,0.25277777777777777,0.24930747922437674,0.24585635359116023,0.2231404958677686,0.22802197802197802,0.21643835616438356,0.24316939890710382,0.29155313351498635,0.2554347826086957,0.3035230352303523,0.23513513513513515,0.2695417789757412,0.24193548387096775,0.24932975871313673,0.232620320855615,0.21333333333333335,0.26595744680851063,0.2440318302387268,0.24074074074074073,0.25065963060686014,0.24736842105263157,0.2545931758530184,0.2356020942408377,0.20887728459530025,0.2682291666666667,0.2753246753246753,0.2849740932642487,0.21188630490956073,0.27835051546391754,0.2493573264781491,0.2948717948717949,0.27365728900255754,0.2576530612244898,0.2366412213740458,0.26903553299492383,0.1949367088607595,0.2727272727272727,0.25440806045340053,0.25125628140703515,0.21553884711779447,0.255,0.23690773067331672,0.22139303482587064,0.24317617866004962,0.2301980198019802,0.23209876543209876,0.2413793103448276,0.2678132678132678,0.2426470588235294,0.25183374083129584,0.28292682926829266,0.2773722627737226,0.2524271844660194,0.22518159806295399,0.23671497584541062,0.23373493975903614,0.2548076923076923,0.23980815347721823,0.22248803827751196,0.26968973747016706,0.25476190476190474,0.27078384798099764,0.22274881516587677,0.28132387706855794,0.2830188679245283,0.2164705882352941,0.23708920187793428,0.26229508196721313,0.2546728971962617,0.28205128205128205,0.24883720930232558,0.2088167053364269,0.2800925925925926,0.2586605080831409,0.2488479262672811,0.296551724137931,0.25,0.2540045766590389,0.23515981735159816,0.23234624145785876,0.24772727272727274,0.22448979591836735,0.2420814479638009,0.28442437923250563,0.23198198198198197,0.251685393258427,0.2399103139013453,0.23042505592841164,0.27455357142857145,0.27616926503340755,0.23333333333333334,0.21729490022172948,0.2721238938053097,0.2958057395143488,0.2511013215859031,0.25054945054945055,0.25877192982456143,0.23413566739606126,0.2096069868995633,0.23311546840958605,0.22608695652173913,0.23210412147505424,0.2597402597402597,0.2915766738660907,0.2672413793103448,0.2752688172043011,0.259656652360515,0.24411134903640258,0.24358974358974358,0.21748400852878466,0.2702127659574468,0.2208067940552017,0.21398305084745764,0.30021141649048627,0.22573839662447256,0.23578947368421052,0.25,0.2830188679245283,0.19874476987447698,0.2567849686847599,0.2833333333333333,0.25363825363825365,0.23029045643153526,0.22567287784679088,0.20041322314049587,0.2639175257731959,0.2139917695473251,0.25051334702258726,0.26229508196721313,0.2331288343558282,0.27346938775510204,0.24439918533604887,0.28252032520325204,0.2616632860040568,0.25101214574898784,0.24646464646464647,0.2721774193548387,0.2414486921529175,0.24899598393574296,0.25250501002004005,0.24,0.27345309381237526,0.2589641434262948,0.3101391650099404,0.23412698412698413,0.25346534653465347,0.24703557312252963,0.25443786982248523,0.2578740157480315,0.2691552062868369,0.24901960784313726,0.26418786692759294,0.263671875,0.24561403508771928,0.25486381322957197,0.27766990291262134,0.26744186046511625,0.24177949709864605,0.2702702702702703,0.22736030828516376,0.2673076923076923,0.2514395393474088,0.24521072796934865,0.22753346080305928,0.2538167938931298,0.2819047619047619,0.2737642585551331,0.2618595825426945,0.23106060606060605,0.23251417769376181,0.23962264150943396,0.24670433145009416,0.2236842105263158,0.26454033771106944,0.24157303370786518,0.24299065420560748,0.251865671641791,0.24022346368715083,0.26394052044609667,0.2690166975881262,0.2574074074074074,0.27171903881700554,0.24723247232472326,0.21731123388581952,0.25183823529411764,0.25504587155963304,0.2326007326007326,0.25594149908592323,0.25,0.22404371584699453,0.27090909090909093,0.27586206896551724,0.21557971014492755,0.26220614828209765,0.2292418772563177,0.2648648648648649,0.2643884892086331,0.25673249551166966,0.24731182795698925,0.20930232558139536,0.23035714285714284,0.25133689839572193,0.2775800711743772,0.2539964476021314,0.22340425531914893,0.2513274336283186,0.22968197879858657,0.23809523809523808,0.23415492957746478,0.2513181019332162,0.22456140350877193,0.22416812609457093,0.22727272727272727,0.24956369982547993,0.25609756097560976,0.2382608695652174,0.2604166666666667,0.2651646447140381,0.26124567474048443,0.2711571675302245,0.2896551724137931,0.2633390705679862,0.24398625429553264,0.24871355060034306,0.2808219178082192,0.29914529914529914,0.2354948805460751,0.2282793867120954,0.25,0.23089983022071306,0.2271186440677966,0.25549915397631134,0.2516891891891892,0.2782462057335582,0.23905723905723905,0.2722689075630252,0.29194630872483224,0.24288107202680068,0.2508361204013378,0.24207011686143573,0.25,0.2545757071547421,0.2724252491694352,0.2769485903814262,0.2781456953642384,0.24958677685950414,0.24587458745874588,0.24217462932454695,0.26151315789473684,0.24794745484400657,0.2573770491803279,0.2225859247135843,0.2434640522875817,0.26101141924959215,0.254071661237785,0.25853658536585367,0.2711038961038961,0.2479740680713128,0.2168284789644013,0.2568659127625202,0.24838709677419354,0.27053140096618356,0.2347266881028939,0.22792937399678972,0.2387820512820513,0.2512,0.25878594249201275,0.2025518341307815,0.22770700636942676,0.24324324324324326,0.27936507936507937,0.29635499207606975,0.24208860759493672,0.23696682464454977,0.2555205047318612,0.25354330708661416,0.27672955974842767,0.25588697017268447,0.22413793103448276,0.26604068857589985,0.2828125,0.27301092043681746,0.2616822429906542,0.25505443234836706,0.2841614906832298,0.2434108527131783,0.2585139318885449,0.26275115919629055,0.2839506172839506,0.23728813559322035,0.28,0.25960061443932414,0.2469325153374233,0.25267993874425726,0.25840978593272174,0.250381679389313,0.2621951219512195,0.2709284627092846,0.25379939209726443,0.2503793626707132,0.26666666666666666,0.2556732223903177,0.2280966767371601,0.248868778280543,0.24096385542168675,0.2556390977443609,0.23723723723723725,0.2938530734632684,0.24850299401197604,0.2705530642750374,0.23283582089552238,0.22354694485842028,0.2544642857142857,0.2526002971768202,0.2403560830860534,0.2562962962962963,0.2470414201183432,0.26292466765140327,0.22713864306784662,0.24889543446244478,0.25441176470588234,0.2422907488986784,0.25513196480938416,0.2840409956076135,0.25292397660818716,0.27007299270072993,0.2725947521865889,0.25327510917030566,0.22674418604651161,0.26705370101596515,0.24782608695652175,0.2503617945007236,0.24710982658959538,0.23376623376623376,0.23631123919308358,0.2517985611510791,0.2629310344827586,0.2568149210903874,0.24068767908309455,0.2503576537911302,0.26571428571428574,0.289586305278174,0.26353276353276356,0.23470839260312945,0.26704545454545453,0.25957446808510637,0.2507082152974504,0.2376237623762376,0.2627118644067797,0.27926657263751764,0.24647887323943662,0.2348804500703235,0.23174157303370788,0.24123422159887797,0.2549019607843137,0.2699300699300699,0.25,0.2412831241283124,0.22841225626740946,0.26564673157162727,0.24027777777777778,0.27045769764216365,0.24653739612188366,0.26556016597510373,0.24033149171270718,0.2537931034482759,0.23829201101928374,0.25722145804676755,0.25137362637362637,0.25925925925925924,0.2219178082191781,0.2612859097127223,0.24180327868852458,0.24693042291950887,0.27520435967302453,0.24761904761904763,0.24864130434782608,0.2537313432835821,0.24254742547425473,0.27604871447902574,0.2702702702702703,0.25101214574898784,0.22506738544474394,0.2449528936742934,0.23118279569892472,0.2348993288590604,0.2386058981233244,0.25301204819277107,0.2727272727272727,0.24032042723631508,0.2653333333333333,0.25166444740346205,0.24867021276595744,0.23638778220451528,0.2572944297082228,0.25695364238410595,0.27116402116402116,0.2523117569352708,0.2612137203166227,0.25691699604743085,0.25394736842105264,0.26938239159001315,0.22572178477690288,0.22673656618610746,0.2198952879581152,0.24836601307189543,0.26370757180156656,0.23598435462842243,0.2682291666666667,0.25617685305591675,0.24935064935064935,0.2438391699092088,0.24740932642487046,0.3027166882276843,0.2454780361757106,0.2361290322580645,0.21778350515463918,0.24967824967824967,0.2390745501285347,0.2605905006418485,0.27307692307692305,0.27784891165172854,0.24296675191815856,0.2515964240102171,0.2461734693877551,0.24331210191082803,0.2480916030534351,0.24904701397712833,0.217005076142132,0.25475285171102663,0.24050632911392406,0.28697850821744625,0.2815656565656566,0.2673392181588903,0.2531486146095718,0.24025157232704403,0.24120603015075376,0.2559598494353827,0.24937343358395989,0.28911138923654567,0.2475,0.2534332084893883,0.2630922693266833,0.23910336239103364,0.24129353233830847,0.27577639751552796,0.2642679900744417,0.26270136307311026,0.2599009900990099,0.2694684796044499,0.23703703703703705,0.2404438964241677,0.22660098522167488,0.24477244772447723,0.2542997542997543,0.24171779141104294,0.2610294117647059,0.26193390452876375,0.25794621026894865,0.25274725274725274,0.2548780487804878,0.24847746650426308,0.2639902676399027,0.25759416767922233,0.2621359223300971,0.24363636363636362,0.22518159806295399,0.22853688029020555,0.24396135265700483,0.24125452352231605,0.25662650602409637,0.2611311672683514,0.2403846153846154,0.23289315726290516,0.25059952038369304,0.21676646706586827,0.23205741626794257,0.25806451612903225,0.24821002386634844,0.22765196662693682,0.24761904761904763,0.2473246135552913,0.24465558194774348,0.25029655990510086,0.2476303317535545,0.27218934911242604,0.24113475177304963,0.24675324675324675,0.24528301886792453,0.26855123674911663,0.24588235294117647,0.25499412455934195,0.25938967136150237,0.24150058616647127,0.2576112412177986,0.27017543859649124,0.2733644859813084,0.26487747957992996,0.24475524475524477,0.2561117578579744,0.24767441860465117,0.2497096399535424,0.25986078886310904,0.25840092699884126,0.24768518518518517,0.23352601156069364,0.24595842956120093,0.24798154555940022,0.25806451612903225,0.24971231300345226,0.24942528735632183,0.2261768082663605,0.25229357798165136,0.25773195876288657,0.2700228832951945,0.24685714285714286,0.2534246575342466,0.23831242873432154,0.23690205011389523,0.24914675767918087,0.2818181818181818,0.27695800227014755,0.2528344671201814,0.26160815402038506,0.252262443438914,0.21694915254237288,0.24717832957110608,0.22886133032694475,0.2635135135135135,0.2609673790776153,0.27752808988764044,0.2727272727272727,0.26345291479820626,0.23292273236282196,0.25615212527964204,0.25139664804469275,0.27232142857142855,0.26198439241917504,0.27060133630289535,0.22914349276974416,0.29,0.2519422863485017,0.23503325942350334,0.2425249169435216,0.24446902654867256,0.26519337016574585,0.25938189845474613,0.237045203969129,0.2533039647577093,0.24092409240924093,0.2571428571428571,0.2491767288693743,0.23903508771929824,0.25958378970427165,0.24507658643326038,0.22513661202185792,0.24890829694323144,0.2584514721919302,0.2559912854030501,0.2219804134929271,0.2543478260869565,0.24321389793702497,0.26572668112798264,0.25677139761646806,0.22727272727272727,0.24324324324324326,0.2526997840172786,0.2481121898597627,0.23168103448275862,0.24542518837459634,0.2623655913978495,0.25993555316863587,0.26931330472103004,0.2658092175777063,0.2259100642398287,0.27700534759358286,0.25106837606837606,0.24759871931696906,0.25906183368869934,0.25026624068157616,0.274468085106383,0.24760892667375134,0.27176220806794055,0.24708377518557795,0.2288135593220339,0.2507936507936508,0.2251585623678647,0.235480464625132,0.2320675105485232,0.24130663856691253,0.22736842105263158,0.2607781282860147,0.24894957983193278,0.23714585519412382,0.2620545073375262,0.2764397905759162,0.26359832635983266,0.2361546499477534,0.2536534446764092,0.24191866527632952,0.24791666666666667,0.24661810613943808,0.2390852390852391,0.24922118380062305,0.245850622406639,0.2766839378238342,0.2111801242236025,0.250258531540848,0.24070247933884298,0.23426212590299278,0.23917525773195877,0.2615859938208033,0.24794238683127573,0.23535457348406988,0.27002053388090347,0.27794871794871795,0.25614754098360654,0.2610030706243603,0.25357873210633947,0.25842696629213485,0.2683673469387755,0.2670744138634047,0.24236252545824846,0.25737538148524924,0.23678861788617886,0.24467005076142131,0.2647058823529412,0.26443768996960487,0.26720647773279355,0.26188068756319516,0.2404040404040404,0.260343087790111,0.25705645161290325,0.2799597180261833,0.24748490945674045,0.2623115577889447,0.24096385542168675,0.23470411233701102,0.23647294589178355,0.27627627627627627]},\"selected\":{\"id\":\"1261\"},\"selection_policy\":{\"id\":\"1260\"}},\"id\":\"1233\",\"type\":\"ColumnDataSource\"},{\"attributes\":{},\"id\":\"1203\",\"type\":\"DataRange1d\"},{\"attributes\":{\"bottom_units\":\"screen\",\"fill_alpha\":0.5,\"fill_color\":\"lightgrey\",\"left_units\":\"screen\",\"level\":\"overlay\",\"line_alpha\":1.0,\"line_color\":\"black\",\"line_dash\":[4,4],\"line_width\":2,\"right_units\":\"screen\",\"top_units\":\"screen\"},\"id\":\"1225\",\"type\":\"BoxAnnotation\"},{\"attributes\":{},\"id\":\"1219\",\"type\":\"PanTool\"},{\"attributes\":{\"line_alpha\":0.1,\"line_color\":\"#1f77b4\",\"x\":{\"field\":\"x\"},\"y\":{\"field\":\"y\"}},\"id\":\"1235\",\"type\":\"Line\"},{\"attributes\":{\"overlay\":{\"id\":\"1225\"}},\"id\":\"1221\",\"type\":\"BoxZoomTool\"},{\"attributes\":{},\"id\":\"1220\",\"type\":\"WheelZoomTool\"},{\"attributes\":{},\"id\":\"1216\",\"type\":\"BasicTicker\"},{\"attributes\":{\"axis\":{\"id\":\"1211\"},\"ticker\":null},\"id\":\"1214\",\"type\":\"Grid\"},{\"attributes\":{\"line_color\":\"#1f77b4\",\"x\":{\"field\":\"x\"},\"y\":{\"field\":\"y\"}},\"id\":\"1234\",\"type\":\"Line\"},{\"attributes\":{},\"id\":\"1207\",\"type\":\"LinearScale\"},{\"attributes\":{\"source\":{\"id\":\"1233\"}},\"id\":\"1237\",\"type\":\"CDSView\"},{\"attributes\":{},\"id\":\"1260\",\"type\":\"UnionRenderers\"},{\"attributes\":{\"axis_label\":\"Estimated Probability\",\"formatter\":{\"id\":\"1258\"},\"ticker\":{\"id\":\"1216\"}},\"id\":\"1215\",\"type\":\"LinearAxis\"},{\"attributes\":{\"text\":\"Simple Line Plot in Bokeh\"},\"id\":\"1201\",\"type\":\"Title\"},{\"attributes\":{},\"id\":\"1224\",\"type\":\"HelpTool\"},{\"attributes\":{\"axis_label\":\"Number of Flips in Experiment\",\"formatter\":{\"id\":\"1256\"},\"ticker\":{\"id\":\"1212\"}},\"id\":\"1211\",\"type\":\"LinearAxis\"},{\"attributes\":{\"active_drag\":\"auto\",\"active_inspect\":\"auto\",\"active_multi\":null,\"active_scroll\":\"auto\",\"active_tap\":\"auto\",\"tools\":[{\"id\":\"1219\"},{\"id\":\"1220\"},{\"id\":\"1221\"},{\"id\":\"1222\"},{\"id\":\"1223\"},{\"id\":\"1224\"}]},\"id\":\"1226\",\"type\":\"Toolbar\"}],\"root_ids\":[\"1200\"]},\"title\":\"Bokeh Application\",\"version\":\"2.1.1\"}};\n",
       "  var render_items = [{\"docid\":\"8f52876b-18ba-49ac-90d2-7d3751e8e7fc\",\"root_ids\":[\"1200\"],\"roots\":{\"1200\":\"d89f0c1c-c197-450a-b6ee-203b239826fb\"}}];\n",
       "  root.Bokeh.embed.embed_items_notebook(docs_json, render_items);\n",
       "\n",
       "  }\n",
       "  if (root.Bokeh !== undefined) {\n",
       "    embed_document(root);\n",
       "  } else {\n",
       "    var attempts = 0;\n",
       "    var timer = setInterval(function(root) {\n",
       "      if (root.Bokeh !== undefined) {\n",
       "        clearInterval(timer);\n",
       "        embed_document(root);\n",
       "      } else {\n",
       "        attempts++;\n",
       "        if (attempts > 100) {\n",
       "          clearInterval(timer);\n",
       "          console.log(\"Bokeh: ERROR: Unable to run BokehJS code because BokehJS library is missing\");\n",
       "        }\n",
       "      }\n",
       "    }, 10, root)\n",
       "  }\n",
       "})(window);"
      ],
      "application/vnd.bokehjs_exec.v0+json": ""
     },
     "metadata": {
      "application/vnd.bokehjs_exec.v0+json": {
       "id": "1200"
      }
     },
     "output_type": "display_data"
    }
   ],
   "source": [
    "# Add a line renderer with legend and line thickness\n",
    "x = range(1, maximum_flips)\n",
    "p.line(x=x, y=probs)\n",
    "\n",
    "# Show the results\n",
    "show(p)"
   ]
  },
  {
   "cell_type": "code",
   "execution_count": null,
   "metadata": {},
   "outputs": [],
   "source": []
  }
 ],
 "metadata": {
  "kernelspec": {
   "display_name": "Python 3",
   "language": "python",
   "name": "python3"
  },
  "language_info": {
   "codemirror_mode": {
    "name": "ipython",
    "version": 3
   },
   "file_extension": ".py",
   "mimetype": "text/x-python",
   "name": "python",
   "nbconvert_exporter": "python",
   "pygments_lexer": "ipython3",
   "version": "3.8.3"
  }
 },
 "nbformat": 4,
 "nbformat_minor": 4
}
